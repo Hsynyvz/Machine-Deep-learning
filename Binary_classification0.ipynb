{
  "nbformat": 4,
  "nbformat_minor": 0,
  "metadata": {
    "accelerator": "GPU",
    "colab": {
      "name": "Binary_classification0.ipynb",
      "provenance": [],
      "mount_file_id": "1kz3u_tAJotzhnlG51jaKbNgHnA0J4JVh",
      "authorship_tag": "ABX9TyOhjA+ipu1vlgdnnNarfRqs",
      "include_colab_link": true
    },
    "kernelspec": {
      "display_name": "Python 3",
      "name": "python3"
    },
    "language_info": {
      "name": "python"
    }
  },
  "cells": [
    {
      "cell_type": "markdown",
      "metadata": {
        "id": "view-in-github",
        "colab_type": "text"
      },
      "source": [
        "<a href=\"https://colab.research.google.com/github/Hsynyvz/Machine-Deep-learning/blob/main/Binary_classification0.ipynb\" target=\"_parent\"><img src=\"https://colab.research.google.com/assets/colab-badge.svg\" alt=\"Open In Colab\"/></a>"
      ]
    },
    {
      "cell_type": "code",
      "metadata": {
        "id": "wEDg5OMh73eN"
      },
      "source": [
        "from keras.preprocessing.image import ImageDataGenerator\n",
        "from keras.models import Sequential\n",
        "from keras.layers import Conv2D, MaxPooling2D, BatchNormalization\n",
        "from keras.layers import Activation, Dropout, Flatten, Dense\n",
        "import os\n",
        "import cv2\n",
        "from PIL import Image\n",
        "import numpy as np\n",
        "import glob\n",
        "import matplotlib.pyplot as plt"
      ],
      "execution_count": 1,
      "outputs": []
    },
    {
      "cell_type": "code",
      "metadata": {
        "id": "ocvLuznD8AXF"
      },
      "source": [
        "image_directory  = \"/content/drive/MyDrive/Machine_Learning /Malaria_dataset/cell_images\""
      ],
      "execution_count": 2,
      "outputs": []
    },
    {
      "cell_type": "code",
      "metadata": {
        "colab": {
          "base_uri": "https://localhost:8080/"
        },
        "id": "wioR_bk68EPQ",
        "outputId": "9a439a52-c516-438a-aec2-c75f2e0c4733"
      },
      "source": [
        "for directory_path in glob.glob(image_directory + \"/*\"):\n",
        "    label = directory_path.split(\"/\")[-1]\n",
        "    print(label)"
      ],
      "execution_count": 3,
      "outputs": [
        {
          "output_type": "stream",
          "name": "stdout",
          "text": [
            "Uninfected\n",
            "Parasitized\n"
          ]
        }
      ]
    },
    {
      "cell_type": "code",
      "metadata": {
        "colab": {
          "base_uri": "https://localhost:8080/"
        },
        "id": "5xiZbq1U8PWx",
        "outputId": "b6c91816-d5d2-456f-cbe4-0ab2b2f23d9c"
      },
      "source": [
        "glob.glob(\"/content/drive/MyDrive/Machine_Learning /Malaria_dataset/cell_images/*\")"
      ],
      "execution_count": 4,
      "outputs": [
        {
          "output_type": "execute_result",
          "data": {
            "text/plain": [
              "['/content/drive/MyDrive/Machine_Learning /Malaria_dataset/cell_images/Uninfected',\n",
              " '/content/drive/MyDrive/Machine_Learning /Malaria_dataset/cell_images/Parasitized']"
            ]
          },
          "metadata": {},
          "execution_count": 4
        }
      ]
    },
    {
      "cell_type": "code",
      "metadata": {
        "id": "jdlReC528Rg4"
      },
      "source": [
        " label = directory_path.split(\"/\")[-1]"
      ],
      "execution_count": 5,
      "outputs": []
    },
    {
      "cell_type": "code",
      "metadata": {
        "id": "XOQ8Y_Jf8UJT"
      },
      "source": [
        "SIZE = 256\n",
        "\n",
        "train_images = []\n",
        "train_labels = [] \n",
        "for directory_path in glob.glob(\"/content/drive/MyDrive/Machine_Learning /Malaria_dataset/cell_images/*\"):\n",
        "    label = directory_path.split(\"/\")[-1]\n",
        "    \n",
        "    for img_path in glob.glob(os.path.join(directory_path, \"*.png\")):\n",
        "        \n",
        "        img = cv2.imread(img_path, cv2.IMREAD_COLOR)       \n",
        "        img = cv2.resize(img, (SIZE, SIZE))\n",
        "        img = cv2.cvtColor(img, cv2.COLOR_RGB2BGR)\n",
        "        train_images.append(img)\n",
        "        train_labels.append(label)"
      ],
      "execution_count": 6,
      "outputs": []
    },
    {
      "cell_type": "code",
      "metadata": {
        "id": "Izv2rc125tUI",
        "colab": {
          "base_uri": "https://localhost:8080/"
        },
        "outputId": "7dcfe7a0-71a7-4dee-da8c-c2fc7bf10e39"
      },
      "source": [
        "len(train_images), len(train_labels)"
      ],
      "execution_count": 7,
      "outputs": [
        {
          "output_type": "execute_result",
          "data": {
            "text/plain": [
              "(800, 800)"
            ]
          },
          "metadata": {},
          "execution_count": 7
        }
      ]
    },
    {
      "cell_type": "code",
      "metadata": {
        "id": "98HcARzj-UuF",
        "colab": {
          "base_uri": "https://localhost:8080/"
        },
        "outputId": "0dce71d0-c80d-4d92-ab73-56b8b82c9ad8"
      },
      "source": [
        "train_images[0]"
      ],
      "execution_count": 8,
      "outputs": [
        {
          "output_type": "execute_result",
          "data": {
            "text/plain": [
              "array([[[0, 0, 0],\n",
              "        [0, 0, 0],\n",
              "        [0, 0, 0],\n",
              "        ...,\n",
              "        [0, 0, 0],\n",
              "        [0, 0, 0],\n",
              "        [0, 0, 0]],\n",
              "\n",
              "       [[0, 0, 0],\n",
              "        [0, 0, 0],\n",
              "        [0, 0, 0],\n",
              "        ...,\n",
              "        [0, 0, 0],\n",
              "        [0, 0, 0],\n",
              "        [0, 0, 0]],\n",
              "\n",
              "       [[0, 0, 0],\n",
              "        [0, 0, 0],\n",
              "        [0, 0, 0],\n",
              "        ...,\n",
              "        [0, 0, 0],\n",
              "        [0, 0, 0],\n",
              "        [0, 0, 0]],\n",
              "\n",
              "       ...,\n",
              "\n",
              "       [[0, 0, 0],\n",
              "        [0, 0, 0],\n",
              "        [0, 0, 0],\n",
              "        ...,\n",
              "        [0, 0, 0],\n",
              "        [0, 0, 0],\n",
              "        [0, 0, 0]],\n",
              "\n",
              "       [[0, 0, 0],\n",
              "        [0, 0, 0],\n",
              "        [0, 0, 0],\n",
              "        ...,\n",
              "        [0, 0, 0],\n",
              "        [0, 0, 0],\n",
              "        [0, 0, 0]],\n",
              "\n",
              "       [[0, 0, 0],\n",
              "        [0, 0, 0],\n",
              "        [0, 0, 0],\n",
              "        ...,\n",
              "        [0, 0, 0],\n",
              "        [0, 0, 0],\n",
              "        [0, 0, 0]]], dtype=uint8)"
            ]
          },
          "metadata": {},
          "execution_count": 8
        }
      ]
    },
    {
      "cell_type": "code",
      "metadata": {
        "id": "undXfZGJ8de2"
      },
      "source": [
        "train_images = np.array(train_images) /255.0"
      ],
      "execution_count": 9,
      "outputs": []
    },
    {
      "cell_type": "code",
      "metadata": {
        "colab": {
          "base_uri": "https://localhost:8080/"
        },
        "id": "ZOp7zUvOncbw",
        "outputId": "1bc848f1-b8b1-4814-f30c-b268007c4326"
      },
      "source": [
        "train_images[0]"
      ],
      "execution_count": 10,
      "outputs": [
        {
          "output_type": "execute_result",
          "data": {
            "text/plain": [
              "array([[[0., 0., 0.],\n",
              "        [0., 0., 0.],\n",
              "        [0., 0., 0.],\n",
              "        ...,\n",
              "        [0., 0., 0.],\n",
              "        [0., 0., 0.],\n",
              "        [0., 0., 0.]],\n",
              "\n",
              "       [[0., 0., 0.],\n",
              "        [0., 0., 0.],\n",
              "        [0., 0., 0.],\n",
              "        ...,\n",
              "        [0., 0., 0.],\n",
              "        [0., 0., 0.],\n",
              "        [0., 0., 0.]],\n",
              "\n",
              "       [[0., 0., 0.],\n",
              "        [0., 0., 0.],\n",
              "        [0., 0., 0.],\n",
              "        ...,\n",
              "        [0., 0., 0.],\n",
              "        [0., 0., 0.],\n",
              "        [0., 0., 0.]],\n",
              "\n",
              "       ...,\n",
              "\n",
              "       [[0., 0., 0.],\n",
              "        [0., 0., 0.],\n",
              "        [0., 0., 0.],\n",
              "        ...,\n",
              "        [0., 0., 0.],\n",
              "        [0., 0., 0.],\n",
              "        [0., 0., 0.]],\n",
              "\n",
              "       [[0., 0., 0.],\n",
              "        [0., 0., 0.],\n",
              "        [0., 0., 0.],\n",
              "        ...,\n",
              "        [0., 0., 0.],\n",
              "        [0., 0., 0.],\n",
              "        [0., 0., 0.]],\n",
              "\n",
              "       [[0., 0., 0.],\n",
              "        [0., 0., 0.],\n",
              "        [0., 0., 0.],\n",
              "        ...,\n",
              "        [0., 0., 0.],\n",
              "        [0., 0., 0.],\n",
              "        [0., 0., 0.]]])"
            ]
          },
          "metadata": {},
          "execution_count": 10
        }
      ]
    },
    {
      "cell_type": "code",
      "metadata": {
        "id": "SYuGGtTs8hAs"
      },
      "source": [
        "train_labels = np.array(train_labels)"
      ],
      "execution_count": 11,
      "outputs": []
    },
    {
      "cell_type": "code",
      "metadata": {
        "id": "OnkpfZby_LIt",
        "colab": {
          "base_uri": "https://localhost:8080/"
        },
        "outputId": "18f8d875-4660-40b1-87d7-a40af51f54aa"
      },
      "source": [
        "train_labels.shape, train_images.shape"
      ],
      "execution_count": 12,
      "outputs": [
        {
          "output_type": "execute_result",
          "data": {
            "text/plain": [
              "((800,), (800, 256, 256, 3))"
            ]
          },
          "metadata": {},
          "execution_count": 12
        }
      ]
    },
    {
      "cell_type": "code",
      "metadata": {
        "id": "jyAcQ17f8dcm"
      },
      "source": [
        "\n",
        "from sklearn.preprocessing import LabelEncoder\n"
      ],
      "execution_count": 13,
      "outputs": []
    },
    {
      "cell_type": "code",
      "metadata": {
        "id": "5UPiI30eAdeC"
      },
      "source": [
        "label_encoder = LabelEncoder()\n",
        "integer_encoded = label_encoder.fit_transform(train_labels)"
      ],
      "execution_count": 14,
      "outputs": []
    },
    {
      "cell_type": "code",
      "metadata": {
        "id": "vvOO46qj_wby"
      },
      "source": [
        "from sklearn.model_selection import train_test_split"
      ],
      "execution_count": 15,
      "outputs": []
    },
    {
      "cell_type": "code",
      "metadata": {
        "id": "VMD7U2YL8dXy"
      },
      "source": [
        "X_train, X_test, y_train, y_test = train_test_split(train_images, integer_encoded, test_size = 0.2, random_state = 0)"
      ],
      "execution_count": 16,
      "outputs": []
    },
    {
      "cell_type": "code",
      "metadata": {
        "id": "_sfK01q18ZHc"
      },
      "source": [
        "INPUT_SHAPE = (SIZE, SIZE, 3)  \n",
        "\n",
        "\n",
        "model = Sequential()\n",
        "model.add(Conv2D(32, (3, 3), input_shape=INPUT_SHAPE))\n",
        "model.add(Activation('relu'))\n",
        "model.add(MaxPooling2D(pool_size=(2, 2)))\n",
        "model.add(Conv2D(32, (3, 3), kernel_initializer = 'he_uniform'))\n",
        "model.add(Activation('relu'))\n",
        "model.add(MaxPooling2D(pool_size=(2, 2)))\n",
        "\n",
        "model.add(Conv2D(64, (3, 3), kernel_initializer = 'he_uniform'))\n",
        "model.add(Activation('relu'))\n",
        "model.add(MaxPooling2D(pool_size=(2, 2)))\n",
        "\n",
        "model.add(Flatten())\n",
        "model.add(Dense(64))\n",
        "model.add(Activation('relu'))\n",
        "model.add(Dropout(0.5))\n",
        "\n",
        "model.add(Dense(1))\n",
        "model.add(Activation('sigmoid'))  \n"
      ],
      "execution_count": 17,
      "outputs": []
    },
    {
      "cell_type": "code",
      "metadata": {
        "id": "ktSl7UfF8ZE1"
      },
      "source": [
        "model.compile(loss='binary_crossentropy',\n",
        "              optimizer='adam',            \n",
        "              metrics=['accuracy'])"
      ],
      "execution_count": 18,
      "outputs": []
    },
    {
      "cell_type": "code",
      "metadata": {
        "id": "tq6Tz1gvABoU",
        "colab": {
          "base_uri": "https://localhost:8080/"
        },
        "outputId": "77a772cf-924f-4b26-ee39-308d8dce473d"
      },
      "source": [
        "history = model.fit(X_train, \n",
        "                         y_train, \n",
        "                         \n",
        "                         verbose = 1, \n",
        "                         epochs = 10 , \n",
        "                    validation_split = 0.2 , \n",
        "                    batch_size = 128)\n"
      ],
      "execution_count": 19,
      "outputs": [
        {
          "output_type": "stream",
          "name": "stdout",
          "text": [
            "Epoch 1/10\n",
            "4/4 [==============================] - 15s 465ms/step - loss: 2.5288 - accuracy: 0.4941 - val_loss: 0.8351 - val_accuracy: 0.5469\n",
            "Epoch 2/10\n",
            "4/4 [==============================] - 1s 368ms/step - loss: 1.1306 - accuracy: 0.5781 - val_loss: 0.3271 - val_accuracy: 0.9766\n",
            "Epoch 3/10\n",
            "4/4 [==============================] - 1s 368ms/step - loss: 0.2494 - accuracy: 0.9434 - val_loss: 0.0859 - val_accuracy: 0.9844\n",
            "Epoch 4/10\n",
            "4/4 [==============================] - 1s 369ms/step - loss: 0.0518 - accuracy: 0.9980 - val_loss: 0.0145 - val_accuracy: 0.9922\n",
            "Epoch 5/10\n",
            "4/4 [==============================] - 1s 364ms/step - loss: 0.0146 - accuracy: 0.9980 - val_loss: 0.0146 - val_accuracy: 0.9922\n",
            "Epoch 6/10\n",
            "4/4 [==============================] - 1s 360ms/step - loss: 0.0067 - accuracy: 0.9980 - val_loss: 0.0035 - val_accuracy: 1.0000\n",
            "Epoch 7/10\n",
            "4/4 [==============================] - 1s 362ms/step - loss: 0.0019 - accuracy: 1.0000 - val_loss: 0.0195 - val_accuracy: 0.9922\n",
            "Epoch 8/10\n",
            "4/4 [==============================] - 1s 369ms/step - loss: 0.0028 - accuracy: 1.0000 - val_loss: 0.0098 - val_accuracy: 0.9922\n",
            "Epoch 9/10\n",
            "4/4 [==============================] - 1s 364ms/step - loss: 0.0024 - accuracy: 1.0000 - val_loss: 0.0042 - val_accuracy: 1.0000\n",
            "Epoch 10/10\n",
            "4/4 [==============================] - 1s 353ms/step - loss: 2.3697e-04 - accuracy: 1.0000 - val_loss: 0.0272 - val_accuracy: 0.9922\n"
          ]
        }
      ]
    },
    {
      "cell_type": "code",
      "metadata": {
        "colab": {
          "base_uri": "https://localhost:8080/"
        },
        "id": "HlsFtdqJJmmw",
        "outputId": "ff560db7-129b-4fbf-d0b7-0f501112caf5"
      },
      "source": [
        "model.evaluate(X_test, y_test)"
      ],
      "execution_count": 20,
      "outputs": [
        {
          "output_type": "stream",
          "name": "stdout",
          "text": [
            "5/5 [==============================] - 1s 34ms/step - loss: 0.0015 - accuracy: 1.0000\n"
          ]
        },
        {
          "output_type": "execute_result",
          "data": {
            "text/plain": [
              "[0.0014775118324905634, 1.0]"
            ]
          },
          "metadata": {},
          "execution_count": 20
        }
      ]
    },
    {
      "cell_type": "code",
      "metadata": {
        "colab": {
          "base_uri": "https://localhost:8080/",
          "height": 573
        },
        "id": "HLnzJN25KYMD",
        "outputId": "634cd65e-4665-44aa-d19e-f1dad1012a93"
      },
      "source": [
        "#plot the training and validation accuracy and loss at each epoch\n",
        "loss = history.history['loss']\n",
        "val_loss = history.history['val_loss']\n",
        "epochs = range(1, len(loss) + 1)\n",
        "plt.plot(epochs, loss, 'y', label='Training loss')\n",
        "plt.plot(epochs, val_loss, 'r', label='Validation loss')\n",
        "plt.title('Training and validation loss')\n",
        "plt.xlabel('Epochs')\n",
        "plt.ylabel('Loss')\n",
        "plt.legend()\n",
        "plt.show()\n",
        "\n",
        "\n",
        "acc = history.history['accuracy']\n",
        "val_acc = history.history['val_accuracy']\n",
        "plt.plot(epochs, acc, 'y', label='Training acc')\n",
        "plt.plot(epochs, val_acc, 'r', label='Validation acc')\n",
        "plt.title('Training and validation accuracy')\n",
        "plt.xlabel('Epochs')\n",
        "plt.ylabel('Accuracy')\n",
        "plt.legend()\n",
        "plt.show()"
      ],
      "execution_count": 21,
      "outputs": [
        {
          "output_type": "display_data",
          "data": {
            "image/png": "[encoded data removed]",
            "text/plain": [
              "<Figure size 432x288 with 1 Axes>"
            ]
          },
          "metadata": {
            "needs_background": "light"
          }
        },
        {
          "output_type": "display_data",
          "data": {
            "image/png": "[encoded data removed]",
            "text/plain": [
              "<Figure size 432x288 with 1 Axes>"
            ]
          },
          "metadata": {
            "needs_background": "light"
          }
        }
      ]
    },
    {
      "cell_type": "code",
      "metadata": {
        "colab": {
          "base_uri": "https://localhost:8080/"
        },
        "id": "TUevCkZUK0lh",
        "outputId": "fe7aa71a-9383-4f07-8fd3-e01d40d7dad6"
      },
      "source": [
        "mythreshold=0.91\n",
        "from sklearn.metrics import confusion_matrix\n",
        "\n",
        "y_pred = (model.predict(X_test)>= mythreshold).astype(int)\n",
        "cm=confusion_matrix(y_test, y_pred)  \n",
        "print(cm)\n"
      ],
      "execution_count": 22,
      "outputs": [
        {
          "output_type": "stream",
          "name": "stdout",
          "text": [
            "[[88  0]\n",
            " [ 0 72]]\n"
          ]
        }
      ]
    },
    {
      "cell_type": "code",
      "metadata": {
        "id": "_HDq4jaRPn8W",
        "colab": {
          "base_uri": "https://localhost:8080/"
        },
        "outputId": "28e25234-5054-4f8a-8844-b91aeddddf57"
      },
      "source": [
        "\n",
        "y_pred[:3]"
      ],
      "execution_count": 23,
      "outputs": [
        {
          "output_type": "execute_result",
          "data": {
            "text/plain": [
              "array([[1],\n",
              "       [0],\n",
              "       [1]])"
            ]
          },
          "metadata": {},
          "execution_count": 23
        }
      ]
    }
  ]
}