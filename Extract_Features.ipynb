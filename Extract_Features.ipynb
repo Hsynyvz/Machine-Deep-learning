{
  "nbformat": 4,
  "nbformat_minor": 0,
  "metadata": {
    "colab": {
      "name": "Extract Features.ipynb",
      "provenance": [],
      "collapsed_sections": [],
      "mount_file_id": "1hzjE3NtNwpcsWq8f8bZDNcZHBd_D96Ds",
      "authorship_tag": "ABX9TyP75WVBCS5mqvjaDJI3ljiz",
      "include_colab_link": true
    },
    "kernelspec": {
      "name": "python3",
      "display_name": "Python 3"
    },
    "language_info": {
      "name": "python"
    }
  },
  "cells": [
    {
      "cell_type": "markdown",
      "metadata": {
        "id": "view-in-github",
        "colab_type": "text"
      },
      "source": [
        "<a href=\"https://colab.research.google.com/github/Hsynyvz/Machine-Deep-learning/blob/main/Extract_Features.ipynb\" target=\"_parent\"><img src=\"https://colab.research.google.com/assets/colab-badge.svg\" alt=\"Open In Colab\"/></a>"
      ]
    },
    {
      "cell_type": "markdown",
      "metadata": {
        "id": "dmlUHn50HgLe"
      },
      "source": [
        "# **Extract Features, Visualize Filters and Feature Maps in VGG16 and VGG19 CNN Models**\n",
        "\n",
        "\n",
        "\n",
        "\n",
        "\n",
        "\n"
      ]
    },
    {
      "cell_type": "markdown",
      "metadata": {
        "id": "CSeHWhB6H_fA"
      },
      "source": [
        "**Extract Features with VGG16**"
      ]
    },
    {
      "cell_type": "code",
      "metadata": {
        "id": "ALqbZ_lzvKU9"
      },
      "source": [
        "from tensorflow.keras.applications import VGG16 \n",
        "from tensorflow.keras.preprocessing import image\n",
        "\n",
        "\n",
        "from tensorflow.keras.applications.vgg16 import preprocess_input\n",
        "import numpy as np\n",
        "from tensorflow.keras.applications.vgg16 import decode_predictions\n",
        "\n",
        "from tensorflow.keras.models import Model \n"
      ],
      "execution_count": null,
      "outputs": []
    },
    {
      "cell_type": "code",
      "metadata": {
        "id": "_WjIkA1_wmkS"
      },
      "source": [
        "model = VGG16(weights = \"imagenet\", include_top = False)\n",
        "model.summary()"
      ],
      "execution_count": null,
      "outputs": []
    },
    {
      "cell_type": "code",
      "metadata": {
        "id": "5RY-D7nrvprG"
      },
      "source": [
        "model = VGG16(weights = \"imagenet\", include_top = False)\n",
        "image_path = \"/content/drive/MyDrive/Machine_Learning /feature_atraction_using_pretrain_models/2.jpeg\"\n",
        "img = image.load_img(image_path, target_size = (224,224))\n",
        "x = image.img_to_array(img)\n",
        "x = np.expand_dims(x, axis=0)\n",
        "x = preprocess_input(x)\n",
        "features = model.predict(x)"
      ],
      "execution_count": null,
      "outputs": []
    },
    {
      "cell_type": "code",
      "metadata": {
        "colab": {
          "base_uri": "https://localhost:8080/"
        },
        "id": "dm_iJtGfwhFk",
        "outputId": "90e5fe2d-e4c9-4951-f799-bac5690de5f5"
      },
      "source": [
        "x.shape"
      ],
      "execution_count": null,
      "outputs": [
        {
          "output_type": "execute_result",
          "data": {
            "text/plain": [
              "(1, 224, 224, 3)"
            ]
          },
          "metadata": {},
          "execution_count": 4
        }
      ]
    },
    {
      "cell_type": "code",
      "metadata": {
        "colab": {
          "base_uri": "https://localhost:8080/"
        },
        "id": "M75PwYRgwKTK",
        "outputId": "c26952f1-8efd-4abe-aa04-2a8a4e7a3612"
      },
      "source": [
        "features.shape"
      ],
      "execution_count": null,
      "outputs": [
        {
          "output_type": "execute_result",
          "data": {
            "text/plain": [
              "(1, 7, 7, 512)"
            ]
          },
          "metadata": {},
          "execution_count": 5
        }
      ]
    },
    {
      "cell_type": "markdown",
      "metadata": {
        "id": "LvrqVUeaIW3E"
      },
      "source": [
        "**Extract Features from an Arbitrary Intermediate Layer with VGG16**"
      ]
    },
    {
      "cell_type": "code",
      "metadata": {
        "colab": {
          "base_uri": "https://localhost:8080/"
        },
        "id": "wYoLuudtzLZl",
        "outputId": "053813cf-8fc1-4de1-905c-c35c97317ec5"
      },
      "source": [
        "base_model =VGG16(weights=\"imagenet\")"
      ],
      "execution_count": null,
      "outputs": [
        {
          "output_type": "stream",
          "name": "stdout",
          "text": [
            "Downloading data from https://storage.googleapis.com/tensorflow/keras-applications/vgg16/vgg16_weights_tf_dim_ordering_tf_kernels.h5\n",
            "553467904/553467096 [==============================] - 4s 0us/step\n",
            "553476096/553467096 [==============================] - 4s 0us/step\n"
          ]
        }
      ]
    },
    {
      "cell_type": "code",
      "metadata": {
        "id": "K6E-aghS1QRK"
      },
      "source": [
        "base_model.summary()"
      ],
      "execution_count": null,
      "outputs": []
    },
    {
      "cell_type": "code",
      "metadata": {
        "id": "2d1CURJgzMGj"
      },
      "source": [
        "model  = Model(inputs = base_model.input , outputs = base_model.get_layer(\"block4_pool\").output)"
      ],
      "execution_count": null,
      "outputs": []
    },
    {
      "cell_type": "code",
      "metadata": {
        "id": "8eRIcOmIzMEN"
      },
      "source": [
        "block4_pool_features = model.predict(x)"
      ],
      "execution_count": null,
      "outputs": []
    },
    {
      "cell_type": "code",
      "metadata": {
        "id": "QB4EC7PEzMB3"
      },
      "source": [
        "block4_pool_features"
      ],
      "execution_count": null,
      "outputs": []
    },
    {
      "cell_type": "code",
      "metadata": {
        "colab": {
          "base_uri": "https://localhost:8080/"
        },
        "id": "at5RkJl4zL_P",
        "outputId": "86ef8c25-5f02-423c-ed17-7beb17123a08"
      },
      "source": [
        "block4_pool_features.shape"
      ],
      "execution_count": null,
      "outputs": [
        {
          "output_type": "execute_result",
          "data": {
            "text/plain": [
              "(1, 14, 14, 512)"
            ]
          },
          "metadata": {},
          "execution_count": 11
        }
      ]
    },
    {
      "cell_type": "markdown",
      "metadata": {
        "id": "K179gTldHYux"
      },
      "source": [
        "**Extract features with VGG19**"
      ]
    },
    {
      "cell_type": "code",
      "metadata": {
        "id": "FuMBX0iizL9A"
      },
      "source": [
        "from tensorflow.keras.applications import VGG19\n",
        "from tensorflow.keras.preprocessing import image\n",
        "\n",
        "\n",
        "from tensorflow.keras.applications.vgg19 import preprocess_input\n",
        "import numpy as np\n",
        "from tensorflow.keras.applications.vgg19 import decode_predictions\n",
        "\n",
        "from tensorflow.keras.models import Model \n",
        "from matplotlib import pyplot"
      ],
      "execution_count": null,
      "outputs": []
    },
    {
      "cell_type": "code",
      "metadata": {
        "id": "341lGinjzL6T"
      },
      "source": [
        "model2 = VGG19(weights = \"imagenet\", include_top = False)\n",
        "model2.summary()"
      ],
      "execution_count": null,
      "outputs": []
    },
    {
      "cell_type": "code",
      "metadata": {
        "id": "uhtKU4HqzLWz"
      },
      "source": [
        "image_path = \"/content/drive/MyDrive/Machine_Learning /feature_atraction_using_pretrain_models/2.jpeg\"\n",
        "img = image.load_img(image_path, target_size = (224,224))\n",
        "x = image.img_to_array(img)\n",
        "x = np.expand_dims(x, axis=0)\n",
        "x = preprocess_input(x)\n",
        "features = model2.predict(x)"
      ],
      "execution_count": null,
      "outputs": []
    },
    {
      "cell_type": "code",
      "metadata": {
        "colab": {
          "base_uri": "https://localhost:8080/"
        },
        "id": "Cb9DNb6kzLUR",
        "outputId": "c59f29c8-248c-44d7-a619-6bf134814e30"
      },
      "source": [
        "features.shape"
      ],
      "execution_count": null,
      "outputs": [
        {
          "output_type": "execute_result",
          "data": {
            "text/plain": [
              "(1, 7, 7, 512)"
            ]
          },
          "metadata": {},
          "execution_count": 15
        }
      ]
    },
    {
      "cell_type": "markdown",
      "metadata": {
        "id": "PvjXRhoR4aGk"
      },
      "source": [
        "**Visualize First 6 Filters Out of 64 Filters in Second Layer of VGG16 Model**"
      ]
    },
    {
      "cell_type": "code",
      "metadata": {
        "id": "fDVUSHbv4ejM"
      },
      "source": [
        "model = VGG16()"
      ],
      "execution_count": null,
      "outputs": []
    },
    {
      "cell_type": "code",
      "metadata": {
        "id": "jxLgu-mr4l1k"
      },
      "source": [
        "filters , biases = model.layers[1].get_weights()"
      ],
      "execution_count": null,
      "outputs": []
    },
    {
      "cell_type": "code",
      "metadata": {
        "colab": {
          "base_uri": "https://localhost:8080/"
        },
        "id": "flfZv0Cy7nT1",
        "outputId": "8148a44b-56af-4fb7-ebb0-55155a3999e4"
      },
      "source": [
        "biases.shape"
      ],
      "execution_count": null,
      "outputs": [
        {
          "output_type": "execute_result",
          "data": {
            "text/plain": [
              "(64,)"
            ]
          },
          "metadata": {},
          "execution_count": 30
        }
      ]
    },
    {
      "cell_type": "code",
      "metadata": {
        "id": "01e-uRvL4-w8"
      },
      "source": [
        "f_min, f_max = filters.max(), filters.min()"
      ],
      "execution_count": null,
      "outputs": []
    },
    {
      "cell_type": "code",
      "metadata": {
        "colab": {
          "base_uri": "https://localhost:8080/"
        },
        "id": "s0RFFdd45POp",
        "outputId": "3217efd8-c651-4362-e3ee-911d38bcf3a9"
      },
      "source": [
        "filters.shape"
      ],
      "execution_count": null,
      "outputs": [
        {
          "output_type": "execute_result",
          "data": {
            "text/plain": [
              "(3, 3, 3, 64)"
            ]
          },
          "metadata": {},
          "execution_count": 21
        }
      ]
    },
    {
      "cell_type": "code",
      "metadata": {
        "id": "mFmPhUT15b3w"
      },
      "source": [
        "n_filters ,ix = 6, 1"
      ],
      "execution_count": null,
      "outputs": []
    },
    {
      "cell_type": "code",
      "metadata": {
        "colab": {
          "base_uri": "https://localhost:8080/",
          "height": 252
        },
        "id": "SxyF9fK95kAh",
        "outputId": "290cb2ee-e635-420b-fe5a-5578260e1efa"
      },
      "source": [
        "n_filters ,ix = 6, 1\n",
        "for i in range(n_filters):\n",
        "  f = filters[:,:,:,i]\n",
        "  for j in range(3):\n",
        "    ax = pyplot.subplot(n_filters, 3 ,ix)\n",
        "    ax.set_xticks([])\n",
        "    ax.set_yticks([])\n",
        "    pyplot.imshow(f[:,:,j ], cmap= \"gray\")\n",
        "    ix += 1\n",
        "\n",
        "pyplot.show()"
      ],
      "execution_count": null,
      "outputs": [
        {
          "output_type": "display_data",
          "data": {
            "image/png": "[encoded data removed]",
            "text/plain": [
              "<Figure size 432x288 with 18 Axes>"
            ]
          },
          "metadata": {}
        }
      ]
    },
    {
      "cell_type": "markdown",
      "metadata": {
        "id": "-tAU6C9NDUyx"
      },
      "source": [
        "**Visualizing the Feature Map for the First Convolutional Layer in the VGG16 Model for an Input Image**"
      ]
    },
    {
      "cell_type": "code",
      "metadata": {
        "id": "yQDza-32DTqS"
      },
      "source": [
        "from tensorflow.keras.applications import VGG16 \n",
        "from tensorflow.keras.preprocessing import image\n",
        "\n",
        "\n",
        "from tensorflow.keras.applications.vgg16 import preprocess_input\n",
        "import numpy as np\n",
        "from tensorflow.keras.applications.vgg16 import decode_predictions\n",
        "\n",
        "from tensorflow.keras.models import Model "
      ],
      "execution_count": null,
      "outputs": []
    },
    {
      "cell_type": "code",
      "metadata": {
        "colab": {
          "base_uri": "https://localhost:8080/"
        },
        "id": "n8Fw8NFjD1Pw",
        "outputId": "6d806f76-cf60-4af1-a63b-3b1a4d921605"
      },
      "source": [
        "model = VGG16()\n",
        "\n",
        "model = Model(inputs = model.inputs, outputs =model.layers[1].output)\n",
        "model.summary()"
      ],
      "execution_count": null,
      "outputs": [
        {
          "output_type": "stream",
          "name": "stdout",
          "text": [
            "Model: \"model_2\"\n",
            "_________________________________________________________________\n",
            " Layer (type)                Output Shape              Param #   \n",
            "=================================================================\n",
            " input_7 (InputLayer)        [(None, 224, 224, 3)]     0         \n",
            "                                                                 \n",
            " block1_conv1 (Conv2D)       (None, 224, 224, 64)      1792      \n",
            "                                                                 \n",
            "=================================================================\n",
            "Total params: 1,792\n",
            "Trainable params: 1,792\n",
            "Non-trainable params: 0\n",
            "_________________________________________________________________\n"
          ]
        }
      ]
    },
    {
      "cell_type": "code",
      "metadata": {
        "id": "JuuF7j_mEcA5"
      },
      "source": [
        "image_path = \"/content/drive/MyDrive/Machine_Learning /feature_atraction_using_pretrain_models/2.jpeg\"\n",
        "img = image.load_img(image_path, target_size = (224,224))\n",
        "x = image.img_to_array(img)\n",
        "x = np.expand_dims(x, axis=0)\n",
        "x = preprocess_input(x)\n",
        "feature_map = model.predict(x)"
      ],
      "execution_count": null,
      "outputs": []
    },
    {
      "cell_type": "code",
      "metadata": {
        "colab": {
          "base_uri": "https://localhost:8080/"
        },
        "id": "PV3JljaDGarS",
        "outputId": "3492d56d-6ad7-40c8-ab12-f1cad6e71c0e"
      },
      "source": [
        "feature_map.shape"
      ],
      "execution_count": null,
      "outputs": [
        {
          "output_type": "execute_result",
          "data": {
            "text/plain": [
              "(1, 224, 224, 64)"
            ]
          },
          "metadata": {},
          "execution_count": 44
        }
      ]
    },
    {
      "cell_type": "code",
      "metadata": {
        "colab": {
          "base_uri": "https://localhost:8080/",
          "height": 252
        },
        "id": "2w4Ao0fUEkpI",
        "outputId": "da611c37-037c-4745-f4cf-18f591ea6c57"
      },
      "source": [
        "square = 8\n",
        "ix = 1\n",
        "\n",
        "for _ in range(square):\n",
        "  for _ in range(square):\n",
        "    ax = pyplot.subplot(square, square ,ix)\n",
        "    ax.set_xticks([])\n",
        "    ax.set_yticks([])\n",
        "    pyplot.imshow(feature_map[0,:,:, ix- 1], cmap= \"gray\")\n",
        "    ix += 1\n",
        "pyplot.show()"
      ],
      "execution_count": null,
      "outputs": [
        {
          "output_type": "display_data",
          "data": {
            "image/png": "[encoded data removed]",
            "text/plain": [
              "<Figure size 432x288 with 64 Axes>"
            ]
          },
          "metadata": {}
        }
      ]
    }
  ]
}