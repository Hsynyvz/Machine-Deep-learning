{
  "nbformat": 4,
  "nbformat_minor": 0,
  "metadata": {
    "colab": {
      "name": "USA_House_Price_Prediction.ipynb",
      "provenance": [],
      "collapsed_sections": [],
      "mount_file_id": "1qVb8U76m3qumG9qwfOXoMnl4kBiWHO3y",
      "authorship_tag": "ABX9TyO0iBzDotYMZ51hGmxb0gEh",
      "include_colab_link": true
    },
    "kernelspec": {
      "name": "python3",
      "display_name": "Python 3"
    },
    "language_info": {
      "name": "python"
    },
    "accelerator": "GPU"
  },
  "cells": [
    {
      "cell_type": "markdown",
      "metadata": {
        "id": "view-in-github",
        "colab_type": "text"
      },
      "source": [
        "<a href=\"https://colab.research.google.com/github/Hsynyvz/Machine-Deep-learning/blob/main/USA_House_Price_Prediction.ipynb\" target=\"_parent\"><img src=\"https://colab.research.google.com/assets/colab-badge.svg\" alt=\"Open In Colab\"/></a>"
      ]
    },
    {
      "cell_type": "code",
      "metadata": {
        "id": "miv9COczsOPD"
      },
      "source": [
        "import tensorflow as tf\n",
        "import pandas as pd\n",
        "import matplotlib.pyplot as plt\n",
        "import numpy as np\n",
        "import seaborn as sns\n",
        "\n",
        "%matplotlib inline\n"
      ],
      "execution_count": 1,
      "outputs": []
    },
    {
      "cell_type": "code",
      "metadata": {
        "id": "SD5Wd_GFyN8d"
      },
      "source": [
        "np.random.seed(42)"
      ],
      "execution_count": 2,
      "outputs": []
    },
    {
      "cell_type": "code",
      "metadata": {
        "id": "CcnRNl6ssOM_"
      },
      "source": [
        "df  = pd.read_csv(\"/content/drive/MyDrive/Machine_Learning /USA_Housing_Price_Prediction/USA_Housing.csv\")"
      ],
      "execution_count": 3,
      "outputs": []
    },
    {
      "cell_type": "code",
      "metadata": {
        "colab": {
          "base_uri": "https://localhost:8080/",
          "height": 202
        },
        "id": "-4Pnf4xYsOKf",
        "outputId": "8a0ed8d6-24cd-495a-943b-901a4359c9be"
      },
      "source": [
        "df.head()"
      ],
      "execution_count": 4,
      "outputs": [
        {
          "output_type": "execute_result",
          "data": {
            "text/html": [
              "<div>\n",
              "<style scoped>\n",
              "    .dataframe tbody tr th:only-of-type {\n",
              "        vertical-align: middle;\n",
              "    }\n",
              "\n",
              "    .dataframe tbody tr th {\n",
              "        vertical-align: top;\n",
              "    }\n",
              "\n",
              "    .dataframe thead th {\n",
              "        text-align: right;\n",
              "    }\n",
              "</style>\n",
              "<table border=\"1\" class=\"dataframe\">\n",
              "  <thead>\n",
              "    <tr style=\"text-align: right;\">\n",
              "      <th></th>\n",
              "      <th>Avg. Area Income</th>\n",
              "      <th>Avg. Area House Age</th>\n",
              "      <th>Avg. Area Number of Rooms</th>\n",
              "      <th>Avg. Area Number of Bedrooms</th>\n",
              "      <th>Area Population</th>\n",
              "      <th>Price</th>\n",
              "      <th>Address</th>\n",
              "    </tr>\n",
              "  </thead>\n",
              "  <tbody>\n",
              "    <tr>\n",
              "      <th>0</th>\n",
              "      <td>79545.458574</td>\n",
              "      <td>5.682861</td>\n",
              "      <td>7.009188</td>\n",
              "      <td>4.09</td>\n",
              "      <td>23086.800503</td>\n",
              "      <td>1.059034e+06</td>\n",
              "      <td>208 Michael Ferry Apt. 674\\nLaurabury, NE 3701...</td>\n",
              "    </tr>\n",
              "    <tr>\n",
              "      <th>1</th>\n",
              "      <td>79248.642455</td>\n",
              "      <td>6.002900</td>\n",
              "      <td>6.730821</td>\n",
              "      <td>3.09</td>\n",
              "      <td>40173.072174</td>\n",
              "      <td>1.505891e+06</td>\n",
              "      <td>188 Johnson Views Suite 079\\nLake Kathleen, CA...</td>\n",
              "    </tr>\n",
              "    <tr>\n",
              "      <th>2</th>\n",
              "      <td>61287.067179</td>\n",
              "      <td>5.865890</td>\n",
              "      <td>8.512727</td>\n",
              "      <td>5.13</td>\n",
              "      <td>36882.159400</td>\n",
              "      <td>1.058988e+06</td>\n",
              "      <td>9127 Elizabeth Stravenue\\nDanieltown, WI 06482...</td>\n",
              "    </tr>\n",
              "    <tr>\n",
              "      <th>3</th>\n",
              "      <td>63345.240046</td>\n",
              "      <td>7.188236</td>\n",
              "      <td>5.586729</td>\n",
              "      <td>3.26</td>\n",
              "      <td>34310.242831</td>\n",
              "      <td>1.260617e+06</td>\n",
              "      <td>USS Barnett\\nFPO AP 44820</td>\n",
              "    </tr>\n",
              "    <tr>\n",
              "      <th>4</th>\n",
              "      <td>59982.197226</td>\n",
              "      <td>5.040555</td>\n",
              "      <td>7.839388</td>\n",
              "      <td>4.23</td>\n",
              "      <td>26354.109472</td>\n",
              "      <td>6.309435e+05</td>\n",
              "      <td>USNS Raymond\\nFPO AE 09386</td>\n",
              "    </tr>\n",
              "  </tbody>\n",
              "</table>\n",
              "</div>"
            ],
            "text/plain": [
              "   Avg. Area Income  ...                                            Address\n",
              "0      79545.458574  ...  208 Michael Ferry Apt. 674\\nLaurabury, NE 3701...\n",
              "1      79248.642455  ...  188 Johnson Views Suite 079\\nLake Kathleen, CA...\n",
              "2      61287.067179  ...  9127 Elizabeth Stravenue\\nDanieltown, WI 06482...\n",
              "3      63345.240046  ...                          USS Barnett\\nFPO AP 44820\n",
              "4      59982.197226  ...                         USNS Raymond\\nFPO AE 09386\n",
              "\n",
              "[5 rows x 7 columns]"
            ]
          },
          "metadata": {},
          "execution_count": 4
        }
      ]
    },
    {
      "cell_type": "code",
      "metadata": {
        "colab": {
          "base_uri": "https://localhost:8080/"
        },
        "id": "y576sJyRsOIF",
        "outputId": "5c432cbe-8af5-4196-f24e-8d80801ceb34"
      },
      "source": [
        "df.shape"
      ],
      "execution_count": 5,
      "outputs": [
        {
          "output_type": "execute_result",
          "data": {
            "text/plain": [
              "(5000, 7)"
            ]
          },
          "metadata": {},
          "execution_count": 5
        }
      ]
    },
    {
      "cell_type": "code",
      "metadata": {
        "colab": {
          "base_uri": "https://localhost:8080/"
        },
        "id": "Tbzlq6LfsOFe",
        "outputId": "ef843ec9-f23d-48e5-d6e7-9c294136d67e"
      },
      "source": [
        "df.isnull().sum()"
      ],
      "execution_count": 6,
      "outputs": [
        {
          "output_type": "execute_result",
          "data": {
            "text/plain": [
              "Avg. Area Income                0\n",
              "Avg. Area House Age             0\n",
              "Avg. Area Number of Rooms       0\n",
              "Avg. Area Number of Bedrooms    0\n",
              "Area Population                 0\n",
              "Price                           0\n",
              "Address                         0\n",
              "dtype: int64"
            ]
          },
          "metadata": {},
          "execution_count": 6
        }
      ]
    },
    {
      "cell_type": "code",
      "metadata": {
        "colab": {
          "base_uri": "https://localhost:8080/"
        },
        "id": "toHYXOehsODM",
        "outputId": "137bbf6b-32e0-4df3-ad07-73cc04a8640e"
      },
      "source": [
        "df.info()"
      ],
      "execution_count": 7,
      "outputs": [
        {
          "output_type": "stream",
          "name": "stdout",
          "text": [
            "<class 'pandas.core.frame.DataFrame'>\n",
            "RangeIndex: 5000 entries, 0 to 4999\n",
            "Data columns (total 7 columns):\n",
            " #   Column                        Non-Null Count  Dtype  \n",
            "---  ------                        --------------  -----  \n",
            " 0   Avg. Area Income              5000 non-null   float64\n",
            " 1   Avg. Area House Age           5000 non-null   float64\n",
            " 2   Avg. Area Number of Rooms     5000 non-null   float64\n",
            " 3   Avg. Area Number of Bedrooms  5000 non-null   float64\n",
            " 4   Area Population               5000 non-null   float64\n",
            " 5   Price                         5000 non-null   float64\n",
            " 6   Address                       5000 non-null   object \n",
            "dtypes: float64(6), object(1)\n",
            "memory usage: 273.6+ KB\n"
          ]
        }
      ]
    },
    {
      "cell_type": "code",
      "metadata": {
        "colab": {
          "base_uri": "https://localhost:8080/",
          "height": 294
        },
        "id": "Pum7kRIWsOAe",
        "outputId": "6601dcb8-2952-4315-dd7a-3379ee3249f6"
      },
      "source": [
        "df.describe()"
      ],
      "execution_count": 8,
      "outputs": [
        {
          "output_type": "execute_result",
          "data": {
            "text/html": [
              "<div>\n",
              "<style scoped>\n",
              "    .dataframe tbody tr th:only-of-type {\n",
              "        vertical-align: middle;\n",
              "    }\n",
              "\n",
              "    .dataframe tbody tr th {\n",
              "        vertical-align: top;\n",
              "    }\n",
              "\n",
              "    .dataframe thead th {\n",
              "        text-align: right;\n",
              "    }\n",
              "</style>\n",
              "<table border=\"1\" class=\"dataframe\">\n",
              "  <thead>\n",
              "    <tr style=\"text-align: right;\">\n",
              "      <th></th>\n",
              "      <th>Avg. Area Income</th>\n",
              "      <th>Avg. Area House Age</th>\n",
              "      <th>Avg. Area Number of Rooms</th>\n",
              "      <th>Avg. Area Number of Bedrooms</th>\n",
              "      <th>Area Population</th>\n",
              "      <th>Price</th>\n",
              "    </tr>\n",
              "  </thead>\n",
              "  <tbody>\n",
              "    <tr>\n",
              "      <th>count</th>\n",
              "      <td>5000.000000</td>\n",
              "      <td>5000.000000</td>\n",
              "      <td>5000.000000</td>\n",
              "      <td>5000.000000</td>\n",
              "      <td>5000.000000</td>\n",
              "      <td>5.000000e+03</td>\n",
              "    </tr>\n",
              "    <tr>\n",
              "      <th>mean</th>\n",
              "      <td>68583.108984</td>\n",
              "      <td>5.977222</td>\n",
              "      <td>6.987792</td>\n",
              "      <td>3.981330</td>\n",
              "      <td>36163.516039</td>\n",
              "      <td>1.232073e+06</td>\n",
              "    </tr>\n",
              "    <tr>\n",
              "      <th>std</th>\n",
              "      <td>10657.991214</td>\n",
              "      <td>0.991456</td>\n",
              "      <td>1.005833</td>\n",
              "      <td>1.234137</td>\n",
              "      <td>9925.650114</td>\n",
              "      <td>3.531176e+05</td>\n",
              "    </tr>\n",
              "    <tr>\n",
              "      <th>min</th>\n",
              "      <td>17796.631190</td>\n",
              "      <td>2.644304</td>\n",
              "      <td>3.236194</td>\n",
              "      <td>2.000000</td>\n",
              "      <td>172.610686</td>\n",
              "      <td>1.593866e+04</td>\n",
              "    </tr>\n",
              "    <tr>\n",
              "      <th>25%</th>\n",
              "      <td>61480.562388</td>\n",
              "      <td>5.322283</td>\n",
              "      <td>6.299250</td>\n",
              "      <td>3.140000</td>\n",
              "      <td>29403.928702</td>\n",
              "      <td>9.975771e+05</td>\n",
              "    </tr>\n",
              "    <tr>\n",
              "      <th>50%</th>\n",
              "      <td>68804.286404</td>\n",
              "      <td>5.970429</td>\n",
              "      <td>7.002902</td>\n",
              "      <td>4.050000</td>\n",
              "      <td>36199.406689</td>\n",
              "      <td>1.232669e+06</td>\n",
              "    </tr>\n",
              "    <tr>\n",
              "      <th>75%</th>\n",
              "      <td>75783.338666</td>\n",
              "      <td>6.650808</td>\n",
              "      <td>7.665871</td>\n",
              "      <td>4.490000</td>\n",
              "      <td>42861.290769</td>\n",
              "      <td>1.471210e+06</td>\n",
              "    </tr>\n",
              "    <tr>\n",
              "      <th>max</th>\n",
              "      <td>107701.748378</td>\n",
              "      <td>9.519088</td>\n",
              "      <td>10.759588</td>\n",
              "      <td>6.500000</td>\n",
              "      <td>69621.713378</td>\n",
              "      <td>2.469066e+06</td>\n",
              "    </tr>\n",
              "  </tbody>\n",
              "</table>\n",
              "</div>"
            ],
            "text/plain": [
              "       Avg. Area Income  Avg. Area House Age  ...  Area Population         Price\n",
              "count       5000.000000          5000.000000  ...      5000.000000  5.000000e+03\n",
              "mean       68583.108984             5.977222  ...     36163.516039  1.232073e+06\n",
              "std        10657.991214             0.991456  ...      9925.650114  3.531176e+05\n",
              "min        17796.631190             2.644304  ...       172.610686  1.593866e+04\n",
              "25%        61480.562388             5.322283  ...     29403.928702  9.975771e+05\n",
              "50%        68804.286404             5.970429  ...     36199.406689  1.232669e+06\n",
              "75%        75783.338666             6.650808  ...     42861.290769  1.471210e+06\n",
              "max       107701.748378             9.519088  ...     69621.713378  2.469066e+06\n",
              "\n",
              "[8 rows x 6 columns]"
            ]
          },
          "metadata": {},
          "execution_count": 8
        }
      ]
    },
    {
      "cell_type": "code",
      "metadata": {
        "colab": {
          "base_uri": "https://localhost:8080/"
        },
        "id": "5So5ndGksN-A",
        "outputId": "3d026b35-6605-4aa2-e1f9-6b8aec639ecd"
      },
      "source": [
        "df.columns"
      ],
      "execution_count": 9,
      "outputs": [
        {
          "output_type": "execute_result",
          "data": {
            "text/plain": [
              "Index(['Avg. Area Income', 'Avg. Area House Age', 'Avg. Area Number of Rooms',\n",
              "       'Avg. Area Number of Bedrooms', 'Area Population', 'Price', 'Address'],\n",
              "      dtype='object')"
            ]
          },
          "metadata": {},
          "execution_count": 9
        }
      ]
    },
    {
      "cell_type": "markdown",
      "metadata": {
        "id": "J7kWbZxCuV7B"
      },
      "source": [
        "#Exploratory Data Analysis (EDA)"
      ]
    },
    {
      "cell_type": "code",
      "metadata": {
        "id": "yt50y41qsN7V"
      },
      "source": [
        "#sns.pairplot(df)"
      ],
      "execution_count": 10,
      "outputs": []
    },
    {
      "cell_type": "code",
      "metadata": {
        "colab": {
          "base_uri": "https://localhost:8080/",
          "height": 293
        },
        "id": "9k_I1f6tsN3_",
        "outputId": "f73054ab-31ac-45ac-9527-4055adc9cb5f"
      },
      "source": [
        "plt.scatter(df[\"Avg. Area House Age\"], df[\"Price\"])\n"
      ],
      "execution_count": 11,
      "outputs": [
        {
          "output_type": "execute_result",
          "data": {
            "text/plain": [
              "<matplotlib.collections.PathCollection at 0x7fa11e139a50>"
            ]
          },
          "metadata": {},
          "execution_count": 11
        },
        {
          "output_type": "display_data",
          "data": {
            "image/png": "[encoded data removed]",
            "text/plain": [
              "<Figure size 432x288 with 1 Axes>"
            ]
          },
          "metadata": {
            "needs_background": "light"
          }
        }
      ]
    },
    {
      "cell_type": "code",
      "metadata": {
        "colab": {
          "base_uri": "https://localhost:8080/",
          "height": 290
        },
        "id": "oOy2CwA_r0D7",
        "outputId": "3c1f4eab-dd58-4abd-a430-7527b377a625"
      },
      "source": [
        "sns.regplot(x = df[\"Avg. Area House Age\"], y = df[\"Price\"])\n",
        "plt.show()"
      ],
      "execution_count": 12,
      "outputs": [
        {
          "output_type": "display_data",
          "data": {
            "image/png": "[encoded data removed]",
            "text/plain": [
              "<Figure size 432x288 with 1 Axes>"
            ]
          },
          "metadata": {
            "needs_background": "light"
          }
        }
      ]
    },
    {
      "cell_type": "code",
      "metadata": {
        "id": "AybZEOROwF_s"
      },
      "source": [
        "X = df.drop([\"Price\" , \"Address\"], axis = 1 )"
      ],
      "execution_count": 13,
      "outputs": []
    },
    {
      "cell_type": "code",
      "metadata": {
        "id": "taFpE0kYwF9S"
      },
      "source": [
        "y = df.Price"
      ],
      "execution_count": 14,
      "outputs": []
    },
    {
      "cell_type": "code",
      "metadata": {
        "colab": {
          "base_uri": "https://localhost:8080/"
        },
        "id": "G1jf1TM0wF69",
        "outputId": "9abc0e02-5135-42b8-c1d2-e4b3190f5329"
      },
      "source": [
        "X.shape,  y.shape"
      ],
      "execution_count": 15,
      "outputs": [
        {
          "output_type": "execute_result",
          "data": {
            "text/plain": [
              "((5000, 5), (5000,))"
            ]
          },
          "metadata": {},
          "execution_count": 15
        }
      ]
    },
    {
      "cell_type": "code",
      "metadata": {
        "id": "VomQlmf-wF4k"
      },
      "source": [
        "from sklearn.model_selection import train_test_split\n",
        "\n",
        "X_train, X_test, y_train, y_test = train_test_split(X, y, test_size=0.3, random_state=42)"
      ],
      "execution_count": 16,
      "outputs": []
    },
    {
      "cell_type": "markdown",
      "metadata": {
        "id": "E5UtqdDhzOQc"
      },
      "source": [
        "#Preparing Data For Linear Regression"
      ]
    },
    {
      "cell_type": "code",
      "metadata": {
        "id": "E7HRTEYCzdcg"
      },
      "source": [
        "from sklearn.preprocessing import StandardScaler\n",
        "from sklearn.pipeline import Pipeline\n",
        "\n",
        "pipeline = Pipeline([\n",
        "    ('std_scalar', StandardScaler())\n",
        "])\n",
        "\n",
        "X_train = pipeline.fit_transform(X_train)\n",
        "X_test = pipeline.transform(X_test)"
      ],
      "execution_count": 17,
      "outputs": []
    },
    {
      "cell_type": "code",
      "metadata": {
        "colab": {
          "base_uri": "https://localhost:8080/"
        },
        "id": "Dkx2p1GQ1G0G",
        "outputId": "8b4d6797-512b-4c2e-abb7-40181dbb3293"
      },
      "source": [
        "from sklearn.linear_model import LinearRegression\n",
        "\n",
        "lin_reg = LinearRegression(normalize=True)\n",
        "lin_reg.fit(X_train,y_train)"
      ],
      "execution_count": 18,
      "outputs": [
        {
          "output_type": "execute_result",
          "data": {
            "text/plain": [
              "LinearRegression(copy_X=True, fit_intercept=True, n_jobs=None, normalize=True)"
            ]
          },
          "metadata": {},
          "execution_count": 18
        }
      ]
    },
    {
      "cell_type": "code",
      "metadata": {
        "colab": {
          "base_uri": "https://localhost:8080/"
        },
        "id": "6KCWBzGU1UhY",
        "outputId": "d1d17ce9-0b86-4e7f-dd56-f3b64d205cb8"
      },
      "source": [
        "print(lin_reg.intercept_)"
      ],
      "execution_count": 19,
      "outputs": [
        {
          "output_type": "stream",
          "name": "stdout",
          "text": [
            "1228219.1492415662\n"
          ]
        }
      ]
    },
    {
      "cell_type": "code",
      "metadata": {
        "colab": {
          "base_uri": "https://localhost:8080/",
          "height": 202
        },
        "id": "SjAV-Ukn1YpS",
        "outputId": "b5efef34-7d43-4eef-beac-063bb8ddec84"
      },
      "source": [
        "coeff_df = pd.DataFrame(lin_reg.coef_, X.columns, columns=['Coefficient'])\n",
        "coeff_df"
      ],
      "execution_count": 20,
      "outputs": [
        {
          "output_type": "execute_result",
          "data": {
            "text/html": [
              "<div>\n",
              "<style scoped>\n",
              "    .dataframe tbody tr th:only-of-type {\n",
              "        vertical-align: middle;\n",
              "    }\n",
              "\n",
              "    .dataframe tbody tr th {\n",
              "        vertical-align: top;\n",
              "    }\n",
              "\n",
              "    .dataframe thead th {\n",
              "        text-align: right;\n",
              "    }\n",
              "</style>\n",
              "<table border=\"1\" class=\"dataframe\">\n",
              "  <thead>\n",
              "    <tr style=\"text-align: right;\">\n",
              "      <th></th>\n",
              "      <th>Coefficient</th>\n",
              "    </tr>\n",
              "  </thead>\n",
              "  <tbody>\n",
              "    <tr>\n",
              "      <th>Avg. Area Income</th>\n",
              "      <td>232679.724643</td>\n",
              "    </tr>\n",
              "    <tr>\n",
              "      <th>Avg. Area House Age</th>\n",
              "      <td>163841.046593</td>\n",
              "    </tr>\n",
              "    <tr>\n",
              "      <th>Avg. Area Number of Rooms</th>\n",
              "      <td>121110.555478</td>\n",
              "    </tr>\n",
              "    <tr>\n",
              "      <th>Avg. Area Number of Bedrooms</th>\n",
              "      <td>2892.815119</td>\n",
              "    </tr>\n",
              "    <tr>\n",
              "      <th>Area Population</th>\n",
              "      <td>151252.342377</td>\n",
              "    </tr>\n",
              "  </tbody>\n",
              "</table>\n",
              "</div>"
            ],
            "text/plain": [
              "                                Coefficient\n",
              "Avg. Area Income              232679.724643\n",
              "Avg. Area House Age           163841.046593\n",
              "Avg. Area Number of Rooms     121110.555478\n",
              "Avg. Area Number of Bedrooms    2892.815119\n",
              "Area Population               151252.342377"
            ]
          },
          "metadata": {},
          "execution_count": 20
        }
      ]
    },
    {
      "cell_type": "code",
      "metadata": {
        "id": "-B-uAJGx1vsg"
      },
      "source": [
        "pred = lin_reg.predict(X_test)"
      ],
      "execution_count": 21,
      "outputs": []
    },
    {
      "cell_type": "code",
      "metadata": {
        "colab": {
          "base_uri": "https://localhost:8080/",
          "height": 202
        },
        "id": "a_VSsrgU1zB0",
        "outputId": "6edbe9e3-7a34-4bbe-e96d-cf8098ea5bc2"
      },
      "source": [
        "df1 = pd.DataFrame({'True Values': y_test, 'Predicted Values': pred})\n",
        "df1.head()"
      ],
      "execution_count": 22,
      "outputs": [
        {
          "output_type": "execute_result",
          "data": {
            "text/html": [
              "<div>\n",
              "<style scoped>\n",
              "    .dataframe tbody tr th:only-of-type {\n",
              "        vertical-align: middle;\n",
              "    }\n",
              "\n",
              "    .dataframe tbody tr th {\n",
              "        vertical-align: top;\n",
              "    }\n",
              "\n",
              "    .dataframe thead th {\n",
              "        text-align: right;\n",
              "    }\n",
              "</style>\n",
              "<table border=\"1\" class=\"dataframe\">\n",
              "  <thead>\n",
              "    <tr style=\"text-align: right;\">\n",
              "      <th></th>\n",
              "      <th>True Values</th>\n",
              "      <th>Predicted Values</th>\n",
              "    </tr>\n",
              "  </thead>\n",
              "  <tbody>\n",
              "    <tr>\n",
              "      <th>1501</th>\n",
              "      <td>1.339096e+06</td>\n",
              "      <td>1.308536e+06</td>\n",
              "    </tr>\n",
              "    <tr>\n",
              "      <th>2586</th>\n",
              "      <td>1.251794e+06</td>\n",
              "      <td>1.237123e+06</td>\n",
              "    </tr>\n",
              "    <tr>\n",
              "      <th>2653</th>\n",
              "      <td>1.340095e+06</td>\n",
              "      <td>1.243836e+06</td>\n",
              "    </tr>\n",
              "    <tr>\n",
              "      <th>1055</th>\n",
              "      <td>1.431508e+06</td>\n",
              "      <td>1.229242e+06</td>\n",
              "    </tr>\n",
              "    <tr>\n",
              "      <th>705</th>\n",
              "      <td>1.042374e+06</td>\n",
              "      <td>1.059353e+06</td>\n",
              "    </tr>\n",
              "  </tbody>\n",
              "</table>\n",
              "</div>"
            ],
            "text/plain": [
              "       True Values  Predicted Values\n",
              "1501  1.339096e+06      1.308536e+06\n",
              "2586  1.251794e+06      1.237123e+06\n",
              "2653  1.340095e+06      1.243836e+06\n",
              "1055  1.431508e+06      1.229242e+06\n",
              "705   1.042374e+06      1.059353e+06"
            ]
          },
          "metadata": {},
          "execution_count": 22
        }
      ]
    },
    {
      "cell_type": "code",
      "metadata": {
        "id": "hqnj1Jy22iB-"
      },
      "source": [
        "from sklearn import metrics\n",
        "from sklearn.model_selection import cross_val_score\n",
        "\n",
        "def cross_val(model):\n",
        "    pred = cross_val_score(model, X, y, cv=10)\n",
        "    return pred.mean()\n",
        "\n",
        "def print_evaluate(true, predicted):  \n",
        "    mae = metrics.mean_absolute_error(true, predicted)\n",
        "    mse = metrics.mean_squared_error(true, predicted)\n",
        "    rmse = np.sqrt(metrics.mean_squared_error(true, predicted))\n",
        "    r2_square = metrics.r2_score(true, predicted)\n",
        "    print('MAE:', mae)\n",
        "    print('MSE:', mse)\n",
        "    print('RMSE:', rmse)\n",
        "    print('R2 Square', r2_square)\n",
        "    print('...')\n",
        "    \n"
      ],
      "execution_count": 23,
      "outputs": []
    },
    {
      "cell_type": "code",
      "metadata": {
        "colab": {
          "base_uri": "https://localhost:8080/"
        },
        "id": "LHtp0c4F32SA",
        "outputId": "cea90d76-0177-4604-ff51-a239fc52db92"
      },
      "source": [
        "test_pred = lin_reg.predict(X_test)\n",
        "train_pred = lin_reg.predict(X_train)\n",
        "\n",
        "print('Test set evaluation:\\n_______')\n",
        "print_evaluate(y_test, test_pred)\n",
        "\n",
        "print('Train set evaluation:\\n____')\n",
        "print_evaluate(y_train, train_pred)"
      ],
      "execution_count": 24,
      "outputs": [
        {
          "output_type": "stream",
          "name": "stdout",
          "text": [
            "Test set evaluation:\n",
            "_______\n",
            "MAE: 81135.56609336878\n",
            "MSE: 10068422551.40088\n",
            "RMSE: 100341.52954485436\n",
            "R2 Square 0.9146818498754016\n",
            "...\n",
            "Train set evaluation:\n",
            "____\n",
            "MAE: 81480.4997317489\n",
            "MSE: 10287043161.197224\n",
            "RMSE: 101425.06180031257\n",
            "R2 Square 0.9192986579075526\n",
            "...\n"
          ]
        }
      ]
    },
    {
      "cell_type": "code",
      "metadata": {
        "colab": {
          "base_uri": "https://localhost:8080/"
        },
        "id": "RtZ39LeyBKkq",
        "outputId": "85b8e5e3-8edc-4a8e-c2e9-fe9a49d2193d"
      },
      "source": [
        "from tensorflow.keras.models import Sequential\n",
        "from tensorflow.keras.layers import Input, Dense, Activation, Dropout\n",
        "from tensorflow.keras.optimizers import Adam\n",
        "\n",
        "X_train = np.array(X_train)\n",
        "X_test = np.array(X_test)\n",
        "y_train = np.array(y_train)\n",
        "y_test = np.array(y_test)\n",
        "\n",
        "model = Sequential()\n",
        "\n",
        "model.add(Dense(X_train.shape[1], activation='relu'))\n",
        "model.add(Dense(32, activation='relu'))\n",
        "model.add(Dropout(0.2))\n",
        "\n",
        "model.add(Dense(64, activation='relu'))\n",
        "model.add(Dropout(0.2))\n",
        "\n",
        "model.add(Dense(128, activation='relu'))\n",
        "model.add(Dropout(0.2))\n",
        "\n",
        "model.add(Dense(512, activation='relu'))\n",
        "model.add(Dropout(0.1))\n",
        "model.add(Dense(1))\n",
        "\n",
        "model.compile(optimizer=Adam(0.00001), loss='mse')\n",
        "\n",
        "history = model.fit(X_train, y_train,\n",
        "              validation_data=(X_test,y_test),\n",
        "              batch_size=16,\n",
        "              epochs=100)"
      ],
      "execution_count": 25,
      "outputs": [
        {
          "output_type": "stream",
          "name": "stdout",
          "text": [
            "Epoch 1/100\n",
            "219/219 [==============================] - 4s 6ms/step - loss: 1635992862720.0000 - val_loss: 1658249674752.0000\n",
            "Epoch 2/100\n",
            "219/219 [==============================] - 1s 5ms/step - loss: 1635991814144.0000 - val_loss: 1658248757248.0000\n",
            "Epoch 3/100\n",
            "219/219 [==============================] - 1s 5ms/step - loss: 1635990110208.0000 - val_loss: 1658246660096.0000\n",
            "Epoch 4/100\n",
            "219/219 [==============================] - 1s 5ms/step - loss: 1635986440192.0000 - val_loss: 1658243776512.0000\n",
            "Epoch 5/100\n",
            "219/219 [==============================] - 1s 4ms/step - loss: 1635982770176.0000 - val_loss: 1658237353984.0000\n",
            "Epoch 6/100\n",
            "219/219 [==============================] - 1s 4ms/step - loss: 1635973595136.0000 - val_loss: 1658226606080.0000\n",
            "Epoch 7/100\n",
            "219/219 [==============================] - 1s 5ms/step - loss: 1635959439360.0000 - val_loss: 1658209959936.0000\n",
            "Epoch 8/100\n",
            "219/219 [==============================] - 1s 5ms/step - loss: 1635938992128.0000 - val_loss: 1658184925184.0000\n",
            "Epoch 9/100\n",
            "219/219 [==============================] - 1s 4ms/step - loss: 1635907928064.0000 - val_loss: 1658147700736.0000\n",
            "Epoch 10/100\n",
            "219/219 [==============================] - 1s 5ms/step - loss: 1635864412160.0000 - val_loss: 1658096451584.0000\n",
            "Epoch 11/100\n",
            "219/219 [==============================] - 1s 4ms/step - loss: 1635804119040.0000 - val_loss: 1658027900928.0000\n",
            "Epoch 12/100\n",
            "219/219 [==============================] - 1s 4ms/step - loss: 1635727572992.0000 - val_loss: 1657938378752.0000\n",
            "Epoch 13/100\n",
            "219/219 [==============================] - 1s 5ms/step - loss: 1635623239680.0000 - val_loss: 1657823559680.0000\n",
            "Epoch 14/100\n",
            "219/219 [==============================] - 1s 5ms/step - loss: 1635494526976.0000 - val_loss: 1657679118336.0000\n",
            "Epoch 15/100\n",
            "219/219 [==============================] - 1s 5ms/step - loss: 1635329245184.0000 - val_loss: 1657498370048.0000\n",
            "Epoch 16/100\n",
            "219/219 [==============================] - 1s 5ms/step - loss: 1635136438272.0000 - val_loss: 1657280397312.0000\n",
            "Epoch 17/100\n",
            "219/219 [==============================] - 1s 4ms/step - loss: 1634899066880.0000 - val_loss: 1657018253312.0000\n",
            "Epoch 18/100\n",
            "219/219 [==============================] - 1s 4ms/step - loss: 1634614116352.0000 - val_loss: 1656706695168.0000\n",
            "Epoch 19/100\n",
            "219/219 [==============================] - 1s 4ms/step - loss: 1634269265920.0000 - val_loss: 1656339300352.0000\n",
            "Epoch 20/100\n",
            "219/219 [==============================] - 1s 5ms/step - loss: 1633871724544.0000 - val_loss: 1655905976320.0000\n",
            "Epoch 21/100\n",
            "219/219 [==============================] - 1s 4ms/step - loss: 1633407598592.0000 - val_loss: 1655408164864.0000\n",
            "Epoch 22/100\n",
            "219/219 [==============================] - 1s 4ms/step - loss: 1632887242752.0000 - val_loss: 1654834593792.0000\n",
            "Epoch 23/100\n",
            "219/219 [==============================] - 1s 5ms/step - loss: 1632297680896.0000 - val_loss: 1654180675584.0000\n",
            "Epoch 24/100\n",
            "219/219 [==============================] - 1s 5ms/step - loss: 1631578619904.0000 - val_loss: 1653437104128.0000\n",
            "Epoch 25/100\n",
            "219/219 [==============================] - 1s 5ms/step - loss: 1630779604992.0000 - val_loss: 1652590379008.0000\n",
            "Epoch 26/100\n",
            "219/219 [==============================] - 1s 5ms/step - loss: 1629932355584.0000 - val_loss: 1651648102400.0000\n",
            "Epoch 27/100\n",
            "219/219 [==============================] - 1s 5ms/step - loss: 1628888891392.0000 - val_loss: 1650576719872.0000\n",
            "Epoch 28/100\n",
            "219/219 [==============================] - 1s 5ms/step - loss: 1627835465728.0000 - val_loss: 1649394974720.0000\n",
            "Epoch 29/100\n",
            "219/219 [==============================] - 1s 5ms/step - loss: 1626588577792.0000 - val_loss: 1648069312512.0000\n",
            "Epoch 30/100\n",
            "219/219 [==============================] - 1s 5ms/step - loss: 1625139970048.0000 - val_loss: 1646597242880.0000\n",
            "Epoch 31/100\n",
            "219/219 [==============================] - 1s 5ms/step - loss: 1623653220352.0000 - val_loss: 1644977717248.0000\n",
            "Epoch 32/100\n",
            "219/219 [==============================] - 1s 4ms/step - loss: 1622016524288.0000 - val_loss: 1643197759488.0000\n",
            "Epoch 33/100\n",
            "219/219 [==============================] - 1s 5ms/step - loss: 1620037861376.0000 - val_loss: 1641230630912.0000\n",
            "Epoch 34/100\n",
            "219/219 [==============================] - 1s 4ms/step - loss: 1618095505408.0000 - val_loss: 1639080656896.0000\n",
            "Epoch 35/100\n",
            "219/219 [==============================] - 1s 5ms/step - loss: 1615819046912.0000 - val_loss: 1636726734848.0000\n",
            "Epoch 36/100\n",
            "219/219 [==============================] - 1s 4ms/step - loss: 1613478887424.0000 - val_loss: 1634164932608.0000\n",
            "Epoch 37/100\n",
            "219/219 [==============================] - 1s 4ms/step - loss: 1610689019904.0000 - val_loss: 1631350423552.0000\n",
            "Epoch 38/100\n",
            "219/219 [==============================] - 1s 5ms/step - loss: 1607747633152.0000 - val_loss: 1628297101312.0000\n",
            "Epoch 39/100\n",
            "219/219 [==============================] - 1s 4ms/step - loss: 1604627595264.0000 - val_loss: 1624983994368.0000\n",
            "Epoch 40/100\n",
            "219/219 [==============================] - 1s 5ms/step - loss: 1601129938944.0000 - val_loss: 1621410971648.0000\n",
            "Epoch 41/100\n",
            "219/219 [==============================] - 1s 4ms/step - loss: 1597679861760.0000 - val_loss: 1617580261376.0000\n",
            "Epoch 42/100\n",
            "219/219 [==============================] - 1s 4ms/step - loss: 1593660014592.0000 - val_loss: 1613422919680.0000\n",
            "Epoch 43/100\n",
            "219/219 [==============================] - 1s 4ms/step - loss: 1589417738240.0000 - val_loss: 1608964505600.0000\n",
            "Epoch 44/100\n",
            "219/219 [==============================] - 1s 5ms/step - loss: 1584889200640.0000 - val_loss: 1604170285056.0000\n",
            "Epoch 45/100\n",
            "219/219 [==============================] - 1s 5ms/step - loss: 1580170215424.0000 - val_loss: 1599038291968.0000\n",
            "Epoch 46/100\n",
            "219/219 [==============================] - 1s 4ms/step - loss: 1574837551104.0000 - val_loss: 1593546375168.0000\n",
            "Epoch 47/100\n",
            "219/219 [==============================] - 1s 4ms/step - loss: 1568924499968.0000 - val_loss: 1587637125120.0000\n",
            "Epoch 48/100\n",
            "219/219 [==============================] - 1s 4ms/step - loss: 1563055751168.0000 - val_loss: 1581388529664.0000\n",
            "Epoch 49/100\n",
            "219/219 [==============================] - 1s 5ms/step - loss: 1556473970688.0000 - val_loss: 1574694813696.0000\n",
            "Epoch 50/100\n",
            "219/219 [==============================] - 1s 5ms/step - loss: 1549748797440.0000 - val_loss: 1567604867072.0000\n",
            "Epoch 51/100\n",
            "219/219 [==============================] - 1s 5ms/step - loss: 1542589382656.0000 - val_loss: 1560048828416.0000\n",
            "Epoch 52/100\n",
            "219/219 [==============================] - 1s 5ms/step - loss: 1534315855872.0000 - val_loss: 1552027090944.0000\n",
            "Epoch 53/100\n",
            "219/219 [==============================] - 1s 4ms/step - loss: 1526536470528.0000 - val_loss: 1543506755584.0000\n",
            "Epoch 54/100\n",
            "219/219 [==============================] - 1s 4ms/step - loss: 1518527053824.0000 - val_loss: 1534584684544.0000\n",
            "Epoch 55/100\n",
            "219/219 [==============================] - 1s 4ms/step - loss: 1508455874560.0000 - val_loss: 1525075935232.0000\n",
            "Epoch 56/100\n",
            "219/219 [==============================] - 1s 4ms/step - loss: 1500001075200.0000 - val_loss: 1515124817920.0000\n",
            "Epoch 57/100\n",
            "219/219 [==============================] - 1s 4ms/step - loss: 1488927981568.0000 - val_loss: 1504564609024.0000\n",
            "Epoch 58/100\n",
            "219/219 [==============================] - 1s 4ms/step - loss: 1477817008128.0000 - val_loss: 1493422702592.0000\n",
            "Epoch 59/100\n",
            "219/219 [==============================] - 1s 4ms/step - loss: 1466383073280.0000 - val_loss: 1481676685312.0000\n",
            "Epoch 60/100\n",
            "219/219 [==============================] - 1s 5ms/step - loss: 1455187558400.0000 - val_loss: 1469442686976.0000\n",
            "Epoch 61/100\n",
            "219/219 [==============================] - 1s 4ms/step - loss: 1443282550784.0000 - val_loss: 1456611000320.0000\n",
            "Epoch 62/100\n",
            "219/219 [==============================] - 1s 4ms/step - loss: 1429162295296.0000 - val_loss: 1443093282816.0000\n",
            "Epoch 63/100\n",
            "219/219 [==============================] - 1s 4ms/step - loss: 1416981250048.0000 - val_loss: 1428963721216.0000\n",
            "Epoch 64/100\n",
            "219/219 [==============================] - 1s 5ms/step - loss: 1401002786816.0000 - val_loss: 1414238699520.0000\n",
            "Epoch 65/100\n",
            "219/219 [==============================] - 1s 4ms/step - loss: 1386324426752.0000 - val_loss: 1398737731584.0000\n",
            "Epoch 66/100\n",
            "219/219 [==============================] - 1s 4ms/step - loss: 1372406808576.0000 - val_loss: 1382753239040.0000\n",
            "Epoch 67/100\n",
            "219/219 [==============================] - 1s 5ms/step - loss: 1355786485760.0000 - val_loss: 1365935915008.0000\n",
            "Epoch 68/100\n",
            "219/219 [==============================] - 1s 5ms/step - loss: 1338648166400.0000 - val_loss: 1348499144704.0000\n",
            "Epoch 69/100\n",
            "219/219 [==============================] - 1s 4ms/step - loss: 1320761032704.0000 - val_loss: 1330291277824.0000\n",
            "Epoch 70/100\n",
            "219/219 [==============================] - 1s 4ms/step - loss: 1302591700992.0000 - val_loss: 1311452823552.0000\n",
            "Epoch 71/100\n",
            "219/219 [==============================] - 1s 4ms/step - loss: 1282949120000.0000 - val_loss: 1291925848064.0000\n",
            "Epoch 72/100\n",
            "219/219 [==============================] - 1s 5ms/step - loss: 1261766836224.0000 - val_loss: 1271451353088.0000\n",
            "Epoch 73/100\n",
            "219/219 [==============================] - 1s 5ms/step - loss: 1243705769984.0000 - val_loss: 1250589540352.0000\n",
            "Epoch 74/100\n",
            "219/219 [==============================] - 1s 4ms/step - loss: 1221631279104.0000 - val_loss: 1228887425024.0000\n",
            "Epoch 75/100\n",
            "219/219 [==============================] - 1s 5ms/step - loss: 1199880142848.0000 - val_loss: 1206367027200.0000\n",
            "Epoch 76/100\n",
            "219/219 [==============================] - 1s 4ms/step - loss: 1180179365888.0000 - val_loss: 1183336366080.0000\n",
            "Epoch 77/100\n",
            "219/219 [==============================] - 1s 5ms/step - loss: 1153330708480.0000 - val_loss: 1159495286784.0000\n",
            "Epoch 78/100\n",
            "219/219 [==============================] - 1s 5ms/step - loss: 1130513563648.0000 - val_loss: 1135025979392.0000\n",
            "Epoch 79/100\n",
            "219/219 [==============================] - 1s 4ms/step - loss: 1106472730624.0000 - val_loss: 1109832499200.0000\n",
            "Epoch 80/100\n",
            "219/219 [==============================] - 1s 4ms/step - loss: 1081498533888.0000 - val_loss: 1084072263680.0000\n",
            "Epoch 81/100\n",
            "219/219 [==============================] - 1s 4ms/step - loss: 1057173143552.0000 - val_loss: 1057767882752.0000\n",
            "Epoch 82/100\n",
            "219/219 [==============================] - 1s 4ms/step - loss: 1029114036224.0000 - val_loss: 1030808141824.0000\n",
            "Epoch 83/100\n",
            "219/219 [==============================] - 1s 4ms/step - loss: 1003038310400.0000 - val_loss: 1003385978880.0000\n",
            "Epoch 84/100\n",
            "219/219 [==============================] - 1s 4ms/step - loss: 977037885440.0000 - val_loss: 975386116096.0000\n",
            "Epoch 85/100\n",
            "219/219 [==============================] - 1s 4ms/step - loss: 946778079232.0000 - val_loss: 946846826496.0000\n",
            "Epoch 86/100\n",
            "219/219 [==============================] - 1s 4ms/step - loss: 918419668992.0000 - val_loss: 917954560000.0000\n",
            "Epoch 87/100\n",
            "219/219 [==============================] - 1s 4ms/step - loss: 888920342528.0000 - val_loss: 888627462144.0000\n",
            "Epoch 88/100\n",
            "219/219 [==============================] - 1s 4ms/step - loss: 863522193408.0000 - val_loss: 858992410624.0000\n",
            "Epoch 89/100\n",
            "219/219 [==============================] - 1s 4ms/step - loss: 832409370624.0000 - val_loss: 828994093056.0000\n",
            "Epoch 90/100\n",
            "219/219 [==============================] - 1s 4ms/step - loss: 802963324928.0000 - val_loss: 799021072384.0000\n",
            "Epoch 91/100\n",
            "219/219 [==============================] - 1s 5ms/step - loss: 775890927616.0000 - val_loss: 768750845952.0000\n",
            "Epoch 92/100\n",
            "219/219 [==============================] - 1s 5ms/step - loss: 746637754368.0000 - val_loss: 738454994944.0000\n",
            "Epoch 93/100\n",
            "219/219 [==============================] - 1s 5ms/step - loss: 714745577472.0000 - val_loss: 708246831104.0000\n",
            "Epoch 94/100\n",
            "219/219 [==============================] - 1s 5ms/step - loss: 685663256576.0000 - val_loss: 678056361984.0000\n",
            "Epoch 95/100\n",
            "219/219 [==============================] - 1s 4ms/step - loss: 654819983360.0000 - val_loss: 648132558848.0000\n",
            "Epoch 96/100\n",
            "219/219 [==============================] - 1s 5ms/step - loss: 627509886976.0000 - val_loss: 618596073472.0000\n",
            "Epoch 97/100\n",
            "219/219 [==============================] - 1s 4ms/step - loss: 599294738432.0000 - val_loss: 589286539264.0000\n",
            "Epoch 98/100\n",
            "219/219 [==============================] - 1s 5ms/step - loss: 572504801280.0000 - val_loss: 560395059200.0000\n",
            "Epoch 99/100\n",
            "219/219 [==============================] - 1s 5ms/step - loss: 542667997184.0000 - val_loss: 532233191424.0000\n",
            "Epoch 100/100\n",
            "219/219 [==============================] - 1s 4ms/step - loss: 518227951616.0000 - val_loss: 504771313664.0000\n"
          ]
        }
      ]
    },
    {
      "cell_type": "code",
      "metadata": {
        "colab": {
          "base_uri": "https://localhost:8080/",
          "height": 202
        },
        "id": "kyWyedCrHw54",
        "outputId": "1007d60f-6c7a-4d4d-cec3-6445554f6f2e"
      },
      "source": [
        "pd.DataFrame(history.history).head()"
      ],
      "execution_count": 26,
      "outputs": [
        {
          "output_type": "execute_result",
          "data": {
            "text/html": [
              "<div>\n",
              "<style scoped>\n",
              "    .dataframe tbody tr th:only-of-type {\n",
              "        vertical-align: middle;\n",
              "    }\n",
              "\n",
              "    .dataframe tbody tr th {\n",
              "        vertical-align: top;\n",
              "    }\n",
              "\n",
              "    .dataframe thead th {\n",
              "        text-align: right;\n",
              "    }\n",
              "</style>\n",
              "<table border=\"1\" class=\"dataframe\">\n",
              "  <thead>\n",
              "    <tr style=\"text-align: right;\">\n",
              "      <th></th>\n",
              "      <th>loss</th>\n",
              "      <th>val_loss</th>\n",
              "    </tr>\n",
              "  </thead>\n",
              "  <tbody>\n",
              "    <tr>\n",
              "      <th>0</th>\n",
              "      <td>1.635993e+12</td>\n",
              "      <td>1.658250e+12</td>\n",
              "    </tr>\n",
              "    <tr>\n",
              "      <th>1</th>\n",
              "      <td>1.635992e+12</td>\n",
              "      <td>1.658249e+12</td>\n",
              "    </tr>\n",
              "    <tr>\n",
              "      <th>2</th>\n",
              "      <td>1.635990e+12</td>\n",
              "      <td>1.658247e+12</td>\n",
              "    </tr>\n",
              "    <tr>\n",
              "      <th>3</th>\n",
              "      <td>1.635986e+12</td>\n",
              "      <td>1.658244e+12</td>\n",
              "    </tr>\n",
              "    <tr>\n",
              "      <th>4</th>\n",
              "      <td>1.635983e+12</td>\n",
              "      <td>1.658237e+12</td>\n",
              "    </tr>\n",
              "  </tbody>\n",
              "</table>\n",
              "</div>"
            ],
            "text/plain": [
              "           loss      val_loss\n",
              "0  1.635993e+12  1.658250e+12\n",
              "1  1.635992e+12  1.658249e+12\n",
              "2  1.635990e+12  1.658247e+12\n",
              "3  1.635986e+12  1.658244e+12\n",
              "4  1.635983e+12  1.658237e+12"
            ]
          },
          "metadata": {},
          "execution_count": 26
        }
      ]
    },
    {
      "cell_type": "code",
      "metadata": {
        "colab": {
          "base_uri": "https://localhost:8080/",
          "height": 294
        },
        "id": "4KzSCe7EEuHw",
        "outputId": "71623fcd-146f-471b-eb29-7bb9e5558ae0"
      },
      "source": [
        "# \"Loss\"\n",
        "plt.plot(history.history['loss'])\n",
        "plt.plot(history.history['val_loss'])\n",
        "plt.title('model loss')\n",
        "plt.ylabel('loss')\n",
        "plt.xlabel('epoch')\n",
        "plt.legend(['train', 'validation'], loc='upper left')\n",
        "plt.show()"
      ],
      "execution_count": 27,
      "outputs": [
        {
          "output_type": "display_data",
          "data": {
            "image/png": "[encoded data removed]",
            "text/plain": [
              "<Figure size 432x288 with 1 Axes>"
            ]
          },
          "metadata": {
            "needs_background": "light"
          }
        }
      ]
    },
    {
      "cell_type": "code",
      "metadata": {
        "colab": {
          "base_uri": "https://localhost:8080/"
        },
        "id": "ZxOoMxOGH8op",
        "outputId": "f6d31163-733d-451e-c392-db5800af02fb"
      },
      "source": [
        "test_pred = model.predict(X_test)\n",
        "train_pred = model.predict(X_train)\n",
        "\n",
        "print('Test set evaluation:\\n_____________________________________')\n",
        "print_evaluate(y_test, test_pred)\n",
        "\n",
        "print('Train set evaluation:\\n_____________________________________')\n",
        "print_evaluate(y_train, train_pred)"
      ],
      "execution_count": 28,
      "outputs": [
        {
          "output_type": "stream",
          "name": "stdout",
          "text": [
            "Test set evaluation:\n",
            "_____________________________________\n",
            "MAE: 658452.989542486\n",
            "MSE: 504771345989.08026\n",
            "RMSE: 710472.6215619292\n",
            "R2 Square -3.2773490341543026\n",
            "...\n",
            "Train set evaluation:\n",
            "_____________________________________\n",
            "MAE: 651334.3738559242\n",
            "MSE: 496193192740.5782\n",
            "RMSE: 704409.818742313\n",
            "R2 Square -2.89261092461877\n",
            "...\n"
          ]
        }
      ]
    },
    {
      "cell_type": "code",
      "metadata": {
        "colab": {
          "base_uri": "https://localhost:8080/"
        },
        "id": "saG94q3qGtiV",
        "outputId": "cf318e3d-f269-4f4b-d4c2-620268f4df51"
      },
      "source": [
        "from sklearn.ensemble import RandomForestRegressor\n",
        "\n",
        "rf_reg = RandomForestRegressor(n_estimators=1000)\n",
        "rf_reg.fit(X_train, y_train)\n",
        "\n",
        "test_pred = rf_reg.predict(X_test)\n",
        "train_pred = rf_reg.predict(X_train)\n",
        "\n",
        "print('Test set evaluation:\\n_____________________________________')\n",
        "print_evaluate(y_test, test_pred)\n",
        "\n",
        "print('Train set evaluation:\\n_____________________________________')\n",
        "print_evaluate(y_train, train_pred)"
      ],
      "execution_count": 29,
      "outputs": [
        {
          "output_type": "stream",
          "name": "stdout",
          "text": [
            "Test set evaluation:\n",
            "_____________________________________\n",
            "MAE: 94314.22836129727\n",
            "MSE: 14152094716.881275\n",
            "RMSE: 118962.57695965264\n",
            "R2 Square 0.8800774862727215\n",
            "...\n",
            "Train set evaluation:\n",
            "_____________________________________\n",
            "MAE: 35303.49718256236\n",
            "MSE: 1987701866.291863\n",
            "RMSE: 44583.650212739005\n",
            "R2 Square 0.9844065776943093\n",
            "...\n"
          ]
        }
      ]
    },
    {
      "cell_type": "code",
      "metadata": {
        "colab": {
          "base_uri": "https://localhost:8080/"
        },
        "id": "f3YwKGzZG2ia",
        "outputId": "e436a417-d7fe-4288-af3c-2a2a6a336f93"
      },
      "source": [
        "from sklearn.svm import SVR\n",
        "\n",
        "svm_reg = SVR(kernel='rbf', C=1000000, epsilon=0.001)\n",
        "svm_reg.fit(X_train, y_train)\n",
        "\n",
        "test_pred = svm_reg.predict(X_test)\n",
        "train_pred = svm_reg.predict(X_train)\n",
        "\n",
        "print('Test set evaluation:\\n_____________________________________')\n",
        "print_evaluate(y_test, test_pred)\n",
        "\n",
        "print('Train set evaluation:\\n_____________________________________')\n",
        "print_evaluate(y_train, train_pred)"
      ],
      "execution_count": 30,
      "outputs": [
        {
          "output_type": "stream",
          "name": "stdout",
          "text": [
            "Test set evaluation:\n",
            "_____________________________________\n",
            "MAE: 87205.73051513635\n",
            "MSE: 11720932765.1323\n",
            "RMSE: 108263.25676392845\n",
            "R2 Square 0.9006787511995368\n",
            "...\n",
            "Train set evaluation:\n",
            "_____________________________________\n",
            "MAE: 73692.56848247407\n",
            "MSE: 9363827731.341503\n",
            "RMSE: 96766.87310924903\n",
            "R2 Square 0.9265412370493262\n",
            "...\n"
          ]
        }
      ]
    }
  ]
}